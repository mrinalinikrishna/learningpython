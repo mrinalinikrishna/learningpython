{
 "cells": [
  {
   "cell_type": "markdown",
   "metadata": {},
   "source": [
    "# Drill : Evaluating Data Sources"
   ]
  },
  {
   "cell_type": "markdown",
   "metadata": {},
   "source": [
    "**Question1:** Data Source: Amsterdam availability data scraped from AirBnB on December 24th. Question: What are the popular neighborhoods in Amsterdam?   \n",
    "\n",
    "**Answer 1:**   \n",
    "Since it is Christmas Eve, it is an exceptional circumstance. This data will suffer from a bias, where it does not account for the high number of holiday bookings. This bias can be corrected by either looking at data from other dates or comparing it to booking data of hotels and data on other tourist attractions to figure out which would be the popular neighborhoods during this particlur time."
   ]
  },
  {
   "cell_type": "markdown",
   "metadata": {},
   "source": [
    "**Question 2:** Data Source: Mental health services use on September 12, 2001 in San Francisco, CA and New York City, NY. Question: How do patterns of mental health service use vary between cities?   \n",
    "            \n",
    "**Answer 2:**   \n",
    "This data suffers from an exceptional circumstance, the aftermath of the September 11 attacks on the Twin Towers in New York City. Due to the tragedy, the mental health services for New York City would be unusually high and skewed, which does not make for an accurate comparison. It would perhaps be more appropriate to look at data from another day, considering the severity of that event would perhaps be unmatched.        "
   ]
  },
  {
   "cell_type": "markdown",
   "metadata": {},
   "source": [
    "**Question 3:** Data Source: Armenian Pub Survey. Question: What are the most common reasons Armenians visit local pubs?  \n",
    "\n",
    "**Answer 3:**   \n",
    "This data set suffers from a number of biases which is why the answer to the question above would not be a correct representation. First of all, of the 175 respondents, 120 are students and another 40 are students who are also working. That means that an overwhelming majority of the respondents are students who are likely to have similar reasons for going to a pub. They are also unlikely to be big spenders at these pubs which would eliminate other possible reasons for visiting them. In order to correct that bias, the sample of the respondents needs to be made more diverse.   \n",
    "Secondly, 94 of the 175 respondents, or more than 53% of the respondents to the survey said that they rarely visit pubs, pegging their frequency at once in two weeks or once a month. Therefore, a very large portion of the sample may not have even visited a pub during another period, making this an exceptional circumstance. In order to correct for this, the sample needs to include a larger number of people who frequent pubs mroe often to get a better estimate of why people visit pubs."
   ]
  }
 ],
 "metadata": {
  "kernelspec": {
   "display_name": "Python 3",
   "language": "python",
   "name": "python3"
  },
  "language_info": {
   "codemirror_mode": {
    "name": "ipython",
    "version": 3
   },
   "file_extension": ".py",
   "mimetype": "text/x-python",
   "name": "python",
   "nbconvert_exporter": "python",
   "pygments_lexer": "ipython3",
   "version": "3.6.2"
  }
 },
 "nbformat": 4,
 "nbformat_minor": 2
}
