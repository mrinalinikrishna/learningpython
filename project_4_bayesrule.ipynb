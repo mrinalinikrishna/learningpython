{
 "cells": [
  {
   "cell_type": "markdown",
   "metadata": {},
   "source": [
    "# Drill - Exercises in Bayes' Rule"
   ]
  },
  {
   "cell_type": "markdown",
   "metadata": {},
   "source": [
    "**Question**   \n",
    "A diagnostic test has a 98% probability of giving a positive result when applied to a person suffering from Thripshaw's Disease, and 10% probability of giving a (false) positive when applied to a non-sufferer. It is estimated that 0.5 % of the population are sufferers. Suppose that the test is now administered to a person whose disease status is unknown. Calculate the probability that the test will:\n",
    "\n",
    "1. Be positive   \n",
    "2. Correctly diagnose a sufferer of Thripshaw's   \n",
    "3. Correctly identify a non-sufferer of Thripshaw's   \n",
    "4. Misclassify the person   "
   ]
  },
  {
   "cell_type": "markdown",
   "metadata": {},
   "source": [
    "** Answer 1.**   \n",
    "The probability of a positive test result will be given by the following calculation:   \n",
    "\n",
    "P(Positive Test) = [P(Positive|Infected)x P(Infected) + P(Positive|Not Infected)xP(Not Infected)]   \n",
    "P(Positive Test) = [(0.98x0.05) + (0.10x0.995)] = 0.1044 or 10.44%"
   ]
  },
  {
   "cell_type": "markdown",
   "metadata": {},
   "source": [
    "**Answer 2.**   \n",
    "Applying Bayes' Rule to correctly identify a person suffering from Thripshaw's Disease, using the following calculation:   \n",
    "P(Infected| Positive Test) = P(Positive Test| Infected) x P(Infected) / P(Positive Test)   \n",
    "P(Infected| Positive Test) = (0.98x0.05)/0.1044 = 0.04693 = 4.69%"
   ]
  },
  {
   "cell_type": "markdown",
   "metadata": {},
   "source": [
    "**Answer 3.** \n",
    "P(Negative Test) = 1- P(Positive Test) = 0.8956     \n",
    "P(Negative Test|Not Infected) = 1- P(Postive Test|Not Infected) = 1-0.10 = 0.9   \n",
    "P(Not Infected| Negative Test) = P(Negative Test|Not Infected) x P(Not Infected) / P(Negative Test)   \n",
    "P(Not Infected| Negative Test) = (0.9 x 0.995)/0.8956 = 0.99988 = 99.98%   \n"
   ]
  },
  {
   "cell_type": "markdown",
   "metadata": {},
   "source": [
    "**Answer 4.**   \n",
    "Probability of correct diagnosis from the test = P(Infected| Positive Test)x P(Not Infected| Negative Test) = 0.04693 x 0.99988  = 0.4692   \n",
    "Probability of incorrect diagnosis = 1- P(correct diagnosis) = 1- 0.0469 = 0.9530 = 95.3%"
   ]
  }
 ],
 "metadata": {
  "kernelspec": {
   "display_name": "Python 3",
   "language": "python",
   "name": "python3"
  },
  "language_info": {
   "codemirror_mode": {
    "name": "ipython",
    "version": 3
   },
   "file_extension": ".py",
   "mimetype": "text/x-python",
   "name": "python",
   "nbconvert_exporter": "python",
   "pygments_lexer": "ipython3",
   "version": "3.6.2"
  }
 },
 "nbformat": 4,
 "nbformat_minor": 2
}
