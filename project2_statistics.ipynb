{
 "cells": [
  {
   "cell_type": "markdown",
   "metadata": {},
   "source": [
    "# Drill: Describing Data"
   ]
  },
  {
   "cell_type": "markdown",
   "metadata": {},
   "source": [
    "**Question 1-** Greg was 14, Marcia was 12, Peter was 11, Jan was 10, Bobby was 8, and Cindy was 6 when they started playing the Brady kids on The Brady Bunch. Cousin Oliver was 8 years old when he joined the show. What are the mean, median, and mode of the kids' ages when they first appeared on the show? What are the variance, standard deviation, and standard error?"
   ]
  },
  {
   "cell_type": "markdown",
   "metadata": {},
   "source": [
    "**Answer 1-** \n",
    "\n",
    "*Setting the data in a dataframe* \n",
    "\n",
    "import numpy as np   \n",
    "import pandas as pd   \n",
    "import matplotlib.pyplot as plt   \n",
    "import statistics   \n",
    "%matplotlib inline   \n",
    "df = pd.DataFrame()   \n",
    "df['Name'] = ['Greg',   \n",
    "'Maria',   \n",
    "'Peter',   \n",
    "'Jan',   \n",
    "'Bobby',   \n",
    "'Cindy',   \n",
    "'Oliver']   \n",
    "df['age'] = [14,  \n",
    "12,   \n",
    "11,   \n",
    "10,   \n",
    "8,   \n",
    "6,   \n",
    "8]   \n",
    "df = df.set_index(['Name'])   \n",
    "print (df) \n",
    "\n",
    "*Prints:*   \n",
    "        age   \n",
    "Name          \n",
    "Greg     14   \n",
    "Maria    12   \n",
    "Peter    11   \n",
    "Jan      10   \n",
    "Bobby     8   \n",
    "Cindy     6   \n",
    "Oliver    8   \n",
    "\n",
    "\n",
    "*Calculating mean, median and mode*   \n",
    "\n",
    "x = np.mean(df['age'])   \n",
    "mean = round (x,2)    \n",
    "print ('Mean: ', mean)   \n",
    "median = np.median(df['age'])   \n",
    "print ('Median: ', median)   \n",
    "mode = statistics.mode(df['age'])   \n",
    "print ('Mode: ', mode)   \n",
    "\n",
    "*Prints:*   \n",
    "Mean:  9.86   \n",
    "Median:  10.0   \n",
    "Mode:  8  \n",
    "    \n",
    "*Calculating variance, standard deviation and standard error*   \n",
    "\n",
    "variance = round((df['age'].var()),2)   \n",
    "print('Variance: ', variance)   \n",
    "std_dev= round((np.std(df['age'], ddof=1)),2)   \n",
    "print('Standard Deviation: ', std_dev)   \n",
    "std_err= round((np.std(df['age'] ,ddof=1) / np.sqrt(len(df['age']))),2)   \n",
    "print('Standard Error: ',std_err)   \n",
    "\n",
    "*Prints:*   \n",
    "Variance:  7.48   \n",
    "Standard Deviation:  2.73   \n",
    "Standard Error:  1.03   \n"
   ]
  },
  {
   "cell_type": "markdown",
   "metadata": {},
   "source": []
  },
  {
   "cell_type": "markdown",
   "metadata": {},
   "source": [
    "**Question 2-** Using these estimates, if you had to choose only one estimate of central tendency and one estimate of variance to describe the data, which would you pick and why?"
   ]
  },
  {
   "cell_type": "markdown",
   "metadata": {},
   "source": [
    "**Answer 2-**   \n",
    "For the measures of central tendency, I would use the median, as it is a round number that is close to the mean and would be a good representation of the central point of the data. For the measure of variance, I would select the standard deviation number, which at 2.73 is fairly high to reflect that the data is quite diverse and contains values that are not similar. "
   ]
  },
  {
   "cell_type": "markdown",
   "metadata": {},
   "source": [
    "**Question 3-** Next, Cindy has a birthday. Update your estimates- what changed, and what didn't?"
   ]
  },
  {
   "cell_type": "markdown",
   "metadata": {},
   "source": [
    "**Answer 3-**   \n",
    "\n",
    "*Changing Cindy's age in the dataframe*   \n",
    "df2 = pd.DataFrame()   \n",
    "df2['Name'] = ['Greg',   \n",
    "'Maria',  \n",
    "'Peter',   \n",
    "'Jan',   \n",
    "'Bobby',   \n",
    "'Cindy',   \n",
    "'Oliver']   \n",
    "df2['age'] = [14,   \n",
    "12,   \n",
    "11,   \n",
    "10,   \n",
    "8,   \n",
    "7,   \n",
    "8]   \n",
    "df2 = df2.set_index(['Name'])   \n",
    "print (df2)   \n",
    "\n",
    "*Prints:*   \n",
    "        age   \n",
    "Name          \n",
    "Greg     14   \n",
    "Maria    12   \n",
    "Peter    11   \n",
    "Jan      10   \n",
    "Bobby     8   \n",
    "Cindy     7   \n",
    "Oliver    8   \n",
    "\n",
    "*Recalculating all measures*   \n",
    "x2 = np.mean(df2['age'])   \n",
    "mean = round (x2,2)   \n",
    "print ('Mean2: ', mean)   \n",
    "median = np.median(df2['age'])   \n",
    "print ('Median2: ', median)   \n",
    "mode2 = statistics.mode(df['age'])   \n",
    "print ('Mode2: ', mode2)   \n",
    "variance = round((df2['age'].var()),2)   \n",
    "print('Variance2: ', variance)   \n",
    "std_dev= round((np.std(df2['age'], ddof=1)),2)   \n",
    "print('Standard Deviation2: ', std_dev)   \n",
    "std_err= round((np.std(df2['age'] ,ddof=1) / np.sqrt(len(df2['age']))),2)   \n",
    "print('Standard Error2: ',std_err)   \n",
    "\n",
    "*Prints:*   \n",
    "Mean2:  10.0   \n",
    "Median2:  10.0   \n",
    "Mode2:  8   \n",
    "Variance2:  6.33   \n",
    "Standard Deviation2:  2.52   \n",
    "Standard Error2:  0.95  \n",
    "\n",
    "Therefore, only the median and the mode remain the same, while the mean, variance, standard error and standard deviation all change."
   ]
  },
  {
   "cell_type": "markdown",
   "metadata": {},
   "source": [
    "**Question 4-**   \n",
    "Nobody likes Cousin Oliver. Maybe the network should have used an even younger actor. Replace Cousin Oliver with 1-year-old Jessica, then recalculate again. Does this change your choice of central tendency or variance estimation methods?"
   ]
  },
  {
   "cell_type": "markdown",
   "metadata": {},
   "source": [
    "**Answer 4-**   \n",
    "\n",
    "*Replacing Cousin Oliver with Jessica in the dataframe*   \n",
    "\n",
    "df3 = pd.DataFrame()   \n",
    "df3['Name'] = ['Greg',  \n",
    "'Maria',   \n",
    "'Peter',   \n",
    "'Jan',   \n",
    "'Bobby',   \n",
    "'Cindy',   \n",
    "'Jessica']   \n",
    "df3['age'] = [14,   \n",
    "12,   \n",
    "11,   \n",
    "10,   \n",
    "8,   \n",
    "7,   \n",
    "1]   \n",
    "df3 = df3.set_index(['Name'])   \n",
    "print (df3)   \n",
    "\n",
    "*Prints:*   \n",
    "         age   \n",
    "Name           \n",
    "Greg      14   \n",
    "Maria     12   \n",
    "Peter     11   \n",
    "Jan       10   \n",
    "Bobby      8   \n",
    "Cindy      7   \n",
    "Jessica    1   \n",
    "\n",
    "*Recalculating the all measures*\n",
    "x3 = np.mean(df3['age'])   \n",
    "mean = round (x3,2)    \n",
    "print ('Mean3: ', mean)   \n",
    "median = np.median(df3['age'])   \n",
    "print ('Median3: ', median)   \n",
    "mode3 = statistics.mode(df['age'])   \n",
    "print ('Mode3: ', mode3)   \n",
    "variance = round((df3['age'].var()),2)   \n",
    "print('Variance3: ', variance)   \n",
    "std_dev= round((np.std(df3['age'], ddof=1)),2)   \n",
    "print('Standard Deviation3: ', std_dev)   \n",
    "std_err= round((np.std(df3['age'] ,ddof=1) / np.sqrt(len(df3['age']))),2)   \n",
    "print('Standard Error3: ',std_err)   \n",
    "\n",
    "*Prints:*   \n",
    "Mean3:  9.0   \n",
    "Median3:  10.0   \n",
    "Mode3:  8   \n",
    "Variance3:  18.0   \n",
    "Standard Deviation3:  4.24   \n",
    "Standard Error3:  1.6  \n",
    "    \n",
    "As seen from the calculations above, the median and the mode remain the same, whereas the mean, variance, standard deviation and standard error all change to reflect the diversity in the data."
   ]
  },
  {
   "cell_type": "markdown",
   "metadata": {},
   "source": [
    "**Question 5-** On the 50th anniversary of The Brady Bunch, four different magazines asked their readers whether they were fans of the show. The answers were: TV Guide 20% fans Entertainment Weekly 23% fans Pop Culture Today 17% fans SciPhi Phanatic 5% fans\n",
    "Based on these numbers, what percentage of adult Americans would you estimate were Brady Bunch fans on the 50th anniversary of the show?"
   ]
  },
  {
   "cell_type": "markdown",
   "metadata": {},
   "source": [
    "**Answer 5-**   \n",
    "The sample of the magazines given does not truly reflect the population that would watch Brady Bunch as it includes SciPhi magazine that seems to have different target audience. The other three magazines would perhaps constitute  a more representative sample of viewers for the show. Keeping that in mind, we could arrive at the population of Americans that are fans of the Brady bunch by taking the mean of the percentages for the three magazines. That gives us the figure of 20% of the American population as fans of the show."
   ]
  }
 ],
 "metadata": {
  "kernelspec": {
   "display_name": "Python 3",
   "language": "python",
   "name": "python3"
  },
  "language_info": {
   "codemirror_mode": {
    "name": "ipython",
    "version": 3
   },
   "file_extension": ".py",
   "mimetype": "text/x-python",
   "name": "python",
   "nbconvert_exporter": "python",
   "pygments_lexer": "ipython3",
   "version": "3.6.2"
  }
 },
 "nbformat": 4,
 "nbformat_minor": 2
}
