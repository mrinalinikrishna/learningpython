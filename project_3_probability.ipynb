{
 "cells": [
  {
   "cell_type": "markdown",
   "metadata": {},
   "source": [
    "# Drill: Exercises In Probability"
   ]
  },
  {
   "cell_type": "markdown",
   "metadata": {},
   "source": [
    "**Question 1-** Calculate the probability of flipping a balanced coin four times and getting each pattern: HTTH, HHHH and TTHH."
   ]
  },
  {
   "cell_type": "markdown",
   "metadata": {},
   "source": [
    "**Answer 1-**   \n",
    "The probability of getting either H or T is 1/2   \n",
    "Therefore, probability of getting HTTH = 1/2**4 = 1/16   \n",
    "Similarly, probability of the remining patterns HHHH and TTHH are also 1/16   "
   ]
  },
  {
   "cell_type": "markdown",
   "metadata": {},
   "source": [
    "**Question 2-** If a list of people has 24 women and 21 men, then the probability of choosing a man from the list is 21/45. What is the probability of not choosing a man?"
   ]
  },
  {
   "cell_type": "markdown",
   "metadata": {},
   "source": [
    "**Answer 2-**   \n",
    "The probability of choosing a man = 21/45   \n",
    "The probability of not choosing a man = probaility of choosing a woman = 24/45"
   ]
  },
  {
   "cell_type": "markdown",
   "metadata": {},
   "source": [
    "**Question 3-** The probability that Bernice will travel by plane sometime in the next year is 10%. The probability of a plane crash at any time is .005%. What is the probability that Bernice will be in a plane crash sometime in the next year?"
   ]
  },
  {
   "cell_type": "markdown",
   "metadata": {},
   "source": [
    "**Answer 3-**   \n",
    "\n",
    "The probability of traveling by plane = 10% or 1/10   \n",
    "The probability of plane crash = 0.005% or 5/100000   \n",
    "The probability of plane travel AND plane crash = 1/10*5/100000 = 5/1000000 = 0.0005%"
   ]
  },
  {
   "cell_type": "markdown",
   "metadata": {},
   "source": [
    "**Question 4-** A data scientist wants to study the behavior of users on the company website. Each time a user clicks on a link on the website, there is a 5% chance that the user will be asked to complete a short survey about their behavior on the website. The data scientist uses the survey data to conclude that, on average, users spend 15 minutes surfing the company website before moving on to other things. What is wrong with this conclusion?"
   ]
  },
  {
   "cell_type": "markdown",
   "metadata": {},
   "source": [
    "**Answer 4-**   \n",
    "Each time a user clicks on the website, there is a 5% chance that he/she would be asked to take the survey about consumer behaviour. That means that there is a 95% chance that the user would not fill out the survey each time they click on the site. If the data scientist's conclusion is dependent on the consumer survey, then it is too small a sample size and does not adequately reflect the consumer's behaviour on the the site. Taking an average of this small sample would give inaccurate representation of the actual surfing patterns of the consumers on the site. "
   ]
  }
 ],
 "metadata": {
  "kernelspec": {
   "display_name": "Python 3",
   "language": "python",
   "name": "python3"
  },
  "language_info": {
   "codemirror_mode": {
    "name": "ipython",
    "version": 3
   },
   "file_extension": ".py",
   "mimetype": "text/x-python",
   "name": "python",
   "nbconvert_exporter": "python",
   "pygments_lexer": "ipython3",
   "version": "3.6.2"
  }
 },
 "nbformat": 4,
 "nbformat_minor": 2
}
